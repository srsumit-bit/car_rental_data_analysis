{
 "cells": [
  {
   "cell_type": "code",
   "execution_count": null,
   "id": "4a12ba2e-4c0b-43c6-8e46-e11360b6d2f9",
   "metadata": {},
   "outputs": [],
   "source": [
    "# importing various different library , pandas(important to read dataframes),matplotlib( for ploting graphs) and also imported seaborn and nupmy if in case ."
   ]
  },
  {
   "cell_type": "code",
   "execution_count": 3,
   "id": "0d09adbf-a493-4dbd-843f-219e98328fe9",
   "metadata": {},
   "outputs": [],
   "source": [
    "import pandas as pd"
   ]
  },
  {
   "cell_type": "code",
   "execution_count": 5,
   "id": "80affe76-5175-4649-bb3e-375e09683c0c",
   "metadata": {},
   "outputs": [],
   "source": [
    "import matplotlib.pyplot as plt"
   ]
  },
  {
   "cell_type": "code",
   "execution_count": 7,
   "id": "ff568d9c-5af2-498b-adc9-d536f5247b9b",
   "metadata": {},
   "outputs": [],
   "source": [
    "import numpy as np"
   ]
  },
  {
   "cell_type": "code",
   "execution_count": 82,
   "id": "1508e8a4-083c-4666-9e02-99d7561a2d86",
   "metadata": {},
   "outputs": [],
   "source": [
    "import seaborn as sns"
   ]
  },
  {
   "cell_type": "code",
   "execution_count": null,
   "id": "160eefa6-4059-44e8-941f-c3130ee79125",
   "metadata": {},
   "outputs": [],
   "source": [
    "# importing first datasets through pandas"
   ]
  },
  {
   "cell_type": "code",
   "execution_count": 282,
   "id": "aa9d65cb-ab47-41b7-ae90-0a99f8eaa974",
   "metadata": {},
   "outputs": [],
   "source": [
    "datafile_1 = pd.read_csv(\"dataset_1 - dataset_1.csv\")"
   ]
  },
  {
   "cell_type": "code",
   "execution_count": null,
   "id": "3d266c39-e202-4740-a626-9365e78a035a",
   "metadata": {},
   "outputs": [],
   "source": [
    "# printing datafile_1 head 5 and tail 5 so to check how is the data"
   ]
  },
  {
   "cell_type": "code",
   "execution_count": 284,
   "id": "af85cfa5-9f72-4b76-96df-9007c4d0e2ab",
   "metadata": {},
   "outputs": [
    {
     "name": "stdout",
     "output_type": "stream",
     "text": [
      "<bound method NDFrame.head of      instant      dteday  season  yr  mnth  hr  holiday  weekday  weathersit  \\\n",
      "0          1  01-01-2011       1   0     1   0    False        6           1   \n",
      "1          2  01-01-2011       1   0     1   1    False        6           1   \n",
      "2          3  01-01-2011       1   0     1   2    False        6           1   \n",
      "3          4  01-01-2011       1   0     1   3    False        6           1   \n",
      "4          5  01-01-2011       1   0     1   4    False        6           1   \n",
      "..       ...         ...     ...  ..   ...  ..      ...      ...         ...   \n",
      "605      606  28-01-2011       1   0     1  11    False        5           3   \n",
      "606      607  28-01-2011       1   0     1  12    False        5           3   \n",
      "607      608  28-01-2011       1   0     1  13    False        5           3   \n",
      "608      609  28-01-2011       1   0     1  14    False        5           3   \n",
      "609      610  28-01-2011       1   0     1  15    False        5           2   \n",
      "\n",
      "     temp  \n",
      "0    0.24  \n",
      "1    0.22  \n",
      "2    0.22  \n",
      "3    0.24  \n",
      "4    0.24  \n",
      "..    ...  \n",
      "605  0.18  \n",
      "606  0.18  \n",
      "607  0.18  \n",
      "608  0.22  \n",
      "609  0.20  \n",
      "\n",
      "[610 rows x 10 columns]>\n"
     ]
    }
   ],
   "source": [
    "print(datafile_1.head)"
   ]
  },
  {
   "cell_type": "code",
   "execution_count": null,
   "id": "cd139876-03ac-480e-8c54-a6b744c336e6",
   "metadata": {},
   "outputs": [],
   "source": [
    "# printing information of datafiles_1"
   ]
  },
  {
   "cell_type": "code",
   "execution_count": 286,
   "id": "549f55db-e680-4646-9cf6-dfdde0a54db5",
   "metadata": {},
   "outputs": [
    {
     "name": "stdout",
     "output_type": "stream",
     "text": [
      "<class 'pandas.core.frame.DataFrame'>\n",
      "RangeIndex: 610 entries, 0 to 609\n",
      "Data columns (total 10 columns):\n",
      " #   Column      Non-Null Count  Dtype  \n",
      "---  ------      --------------  -----  \n",
      " 0   instant     610 non-null    int64  \n",
      " 1   dteday      610 non-null    object \n",
      " 2   season      610 non-null    int64  \n",
      " 3   yr          610 non-null    int64  \n",
      " 4   mnth        610 non-null    int64  \n",
      " 5   hr          610 non-null    int64  \n",
      " 6   holiday     610 non-null    bool   \n",
      " 7   weekday     610 non-null    int64  \n",
      " 8   weathersit  610 non-null    int64  \n",
      " 9   temp        610 non-null    float64\n",
      "dtypes: bool(1), float64(1), int64(7), object(1)\n",
      "memory usage: 43.6+ KB\n",
      "None\n"
     ]
    }
   ],
   "source": [
    "print(datafile_1.info()) # we can see that no null values so no need to fill "
   ]
  },
  {
   "cell_type": "code",
   "execution_count": null,
   "id": "b46bdbb9-fb31-4b3c-bb92-99f7f52ef3f9",
   "metadata": {},
   "outputs": [],
   "source": [
    "# printing describe to check all the outliers and different quartiles"
   ]
  },
  {
   "cell_type": "code",
   "execution_count": 288,
   "id": "0de4423c-a45b-4d27-992c-8cbd74556fb7",
   "metadata": {},
   "outputs": [
    {
     "name": "stdout",
     "output_type": "stream",
     "text": [
      "           instant      dteday  season     yr   mnth          hr holiday  \\\n",
      "count   610.000000         610   610.0  610.0  610.0  610.000000     610   \n",
      "unique         NaN          28     NaN    NaN    NaN         NaN       2   \n",
      "top            NaN  01-01-2011     NaN    NaN    NaN         NaN   False   \n",
      "freq           NaN          24     NaN    NaN    NaN         NaN     586   \n",
      "mean    305.500000         NaN     1.0    0.0    1.0   11.795082     NaN   \n",
      "std     176.236111         NaN     0.0    0.0    0.0    6.852107     NaN   \n",
      "min       1.000000         NaN     1.0    0.0    1.0    0.000000     NaN   \n",
      "25%     153.250000         NaN     1.0    0.0    1.0    6.000000     NaN   \n",
      "50%     305.500000         NaN     1.0    0.0    1.0   12.000000     NaN   \n",
      "75%     457.750000         NaN     1.0    0.0    1.0   18.000000     NaN   \n",
      "max     610.000000         NaN     1.0    0.0    1.0   23.000000     NaN   \n",
      "\n",
      "           weekday  weathersit        temp  \n",
      "count   610.000000  610.000000  610.000000  \n",
      "unique         NaN         NaN         NaN  \n",
      "top            NaN         NaN         NaN  \n",
      "freq           NaN         NaN         NaN  \n",
      "mean      2.977049    1.477049    0.196885  \n",
      "std       2.054943    0.643496    0.081304  \n",
      "min       0.000000    1.000000    0.020000  \n",
      "25%       1.000000    1.000000    0.160000  \n",
      "50%       3.000000    1.000000    0.200000  \n",
      "75%       5.000000    2.000000    0.235000  \n",
      "max       6.000000    4.000000    0.460000  \n"
     ]
    }
   ],
   "source": [
    "print(datafile_1.describe(include = 'all'))"
   ]
  },
  {
   "cell_type": "code",
   "execution_count": 290,
   "id": "b8c1d1c3-83d6-4edf-a124-daac63f8f82b",
   "metadata": {},
   "outputs": [
    {
     "name": "stdout",
     "output_type": "stream",
     "text": [
      "instant       0\n",
      "dteday        0\n",
      "season        0\n",
      "yr            0\n",
      "mnth          0\n",
      "hr            0\n",
      "holiday       0\n",
      "weekday       0\n",
      "weathersit    0\n",
      "temp          0\n",
      "dtype: int64\n"
     ]
    }
   ],
   "source": [
    "print(datafile_1.isnull().sum())"
   ]
  },
  {
   "cell_type": "code",
   "execution_count": null,
   "id": "d22fba74-74f8-4b67-b8d1-f8a59bd34e79",
   "metadata": {},
   "outputs": [],
   "source": [
    "# droped season column because it contains only one value "
   ]
  },
  {
   "cell_type": "code",
   "execution_count": 296,
   "id": "cd5b78fa-c943-4918-a304-9b3730b988ef",
   "metadata": {},
   "outputs": [],
   "source": [
    "datafile_1_cleaned = datafile_1.drop('season', axis=1)\n"
   ]
  },
  {
   "cell_type": "code",
   "execution_count": null,
   "id": "c30ed5e6-0bc4-4d45-aed2-5c4f7b1c7cb4",
   "metadata": {},
   "outputs": [],
   "source": [
    "# printing the cleaned datafile_1"
   ]
  },
  {
   "cell_type": "code",
   "execution_count": 298,
   "id": "1c812a61-b8d0-4234-af6c-28eaec8faaf9",
   "metadata": {},
   "outputs": [
    {
     "name": "stdout",
     "output_type": "stream",
     "text": [
      "<bound method NDFrame.head of      instant      dteday  yr  mnth  hr  holiday  weekday  weathersit  temp\n",
      "0          1  01-01-2011   0     1   0    False        6           1  0.24\n",
      "1          2  01-01-2011   0     1   1    False        6           1  0.22\n",
      "2          3  01-01-2011   0     1   2    False        6           1  0.22\n",
      "3          4  01-01-2011   0     1   3    False        6           1  0.24\n",
      "4          5  01-01-2011   0     1   4    False        6           1  0.24\n",
      "..       ...         ...  ..   ...  ..      ...      ...         ...   ...\n",
      "605      606  28-01-2011   0     1  11    False        5           3  0.18\n",
      "606      607  28-01-2011   0     1  12    False        5           3  0.18\n",
      "607      608  28-01-2011   0     1  13    False        5           3  0.18\n",
      "608      609  28-01-2011   0     1  14    False        5           3  0.22\n",
      "609      610  28-01-2011   0     1  15    False        5           2  0.20\n",
      "\n",
      "[610 rows x 9 columns]>\n"
     ]
    }
   ],
   "source": [
    "print(datafile_1_cleaned.head)"
   ]
  },
  {
   "cell_type": "code",
   "execution_count": null,
   "id": "ca9eca25-2ad1-4d03-880b-def09f36f242",
   "metadata": {},
   "outputs": [],
   "source": [
    "# again printing the info so that no null value is leftover"
   ]
  },
  {
   "cell_type": "code",
   "execution_count": 300,
   "id": "850de107-be8e-4401-8fcc-caaf65845f58",
   "metadata": {},
   "outputs": [
    {
     "name": "stdout",
     "output_type": "stream",
     "text": [
      "<class 'pandas.core.frame.DataFrame'>\n",
      "RangeIndex: 610 entries, 0 to 609\n",
      "Data columns (total 9 columns):\n",
      " #   Column      Non-Null Count  Dtype  \n",
      "---  ------      --------------  -----  \n",
      " 0   instant     610 non-null    int64  \n",
      " 1   dteday      610 non-null    object \n",
      " 2   yr          610 non-null    int64  \n",
      " 3   mnth        610 non-null    int64  \n",
      " 4   hr          610 non-null    int64  \n",
      " 5   holiday     610 non-null    bool   \n",
      " 6   weekday     610 non-null    int64  \n",
      " 7   weathersit  610 non-null    int64  \n",
      " 8   temp        610 non-null    float64\n",
      "dtypes: bool(1), float64(1), int64(6), object(1)\n",
      "memory usage: 38.8+ KB\n",
      "None\n"
     ]
    }
   ],
   "source": [
    "print(datafile_1_cleaned.info())"
   ]
  },
  {
   "cell_type": "code",
   "execution_count": null,
   "id": "425a3c76-cd12-4fc0-b3bf-4300b498818b",
   "metadata": {},
   "outputs": [],
   "source": [
    "# ploting the  graph of the relation between instant and temp"
   ]
  },
  {
   "cell_type": "code",
   "execution_count": 302,
   "id": "c6309418-a609-4a7d-bfac-096f6580c5b3",
   "metadata": {},
   "outputs": [
    {
     "data": {
      "image/png": "[encoded data removed]",
      "text/plain": [
       "<Figure size 640x480 with 1 Axes>"
      ]
     },
     "metadata": {},
     "output_type": "display_data"
    }
   ],
   "source": [
    "plt.bar(datafile_1_cleaned['instant'],datafile_1_cleaned['temp'])\n",
    "plt.title('bike rent')\n",
    "plt.xlabel('instant')\n",
    "plt.ylabel('temp')\n",
    "plt.show()"
   ]
  },
  {
   "cell_type": "code",
   "execution_count": null,
   "id": "a3d77bb4-23aa-409a-a50c-857dbabc4ea8",
   "metadata": {},
   "outputs": [],
   "source": [
    "# ploting graph showing relation between instant and holiday"
   ]
  },
  {
   "cell_type": "code",
   "execution_count": 304,
   "id": "31b8ff6c-96ff-4a07-b5cc-df988afcc846",
   "metadata": {},
   "outputs": [
    {
     "data": {
      "image/png": "[encoded data removed]",
      "text/plain": [
       "<Figure size 640x480 with 1 Axes>"
      ]
     },
     "metadata": {},
     "output_type": "display_data"
    }
   ],
   "source": [
    "plt.plot(datafile_1_cleaned['instant'],datafile_1_cleaned['holiday'])\n",
    "plt.xlabel('instant')\n",
    "plt.ylabel('holiday')\n",
    "plt.show()"
   ]
  },
  {
   "cell_type": "code",
   "execution_count": null,
   "id": "a5c02323-ef41-4d0a-b9b5-23d9b0854d21",
   "metadata": {},
   "outputs": [],
   "source": [
    "# importing dataset_2"
   ]
  },
  {
   "cell_type": "code",
   "execution_count": 306,
   "id": "eaa64dbb-06d8-486d-a65c-1f0fd419a1aa",
   "metadata": {},
   "outputs": [],
   "source": [
    "datafile_2 = pd.read_csv('dataset_2.xlsx - dataset_2.csv')"
   ]
  },
  {
   "cell_type": "code",
   "execution_count": null,
   "id": "30130ab0-82b0-49d1-9b7a-1b5d6eb2fc8b",
   "metadata": {},
   "outputs": [],
   "source": [
    "# printing dataset_2 head so to see the data and analyis"
   ]
  },
  {
   "cell_type": "code",
   "execution_count": 308,
   "id": "81a54ea9-8729-4280-a89d-d3268dd87ca9",
   "metadata": {},
   "outputs": [
    {
     "name": "stdout",
     "output_type": "stream",
     "text": [
      "<bound method NDFrame.head of      Unnamed: 0  instant   atemp   hum  windspeed  casual  registered  cnt\n",
      "0             0        1  0.2879  0.81     0.0000       3          13   16\n",
      "1             1        2  0.2727  0.80     0.0000       8          32   40\n",
      "2             2        3  0.2727  0.80     0.0000       5          27   32\n",
      "3             3        4  0.2879  0.75     0.0000       3          10   13\n",
      "4             4        5  0.2879  0.75     0.0000       0           1    1\n",
      "..          ...      ...     ...   ...        ...     ...         ...  ...\n",
      "605         605      606  0.2121  0.93     0.1045       0          30   30\n",
      "606         606      607  0.2121  0.93     0.1045       1          28   29\n",
      "607         607      608  0.2121  0.93     0.1045       0          31   31\n",
      "608         608      609  0.2727  0.80     0.0000       2          36   38\n",
      "609         609      610  0.2576  0.86     0.0000       1          40   41\n",
      "\n",
      "[610 rows x 8 columns]>\n"
     ]
    }
   ],
   "source": [
    "print(datafile_2.head)"
   ]
  },
  {
   "cell_type": "code",
   "execution_count": null,
   "id": "2207099e-01ae-45f0-a346-1438594fef50",
   "metadata": {},
   "outputs": [],
   "source": [
    "# printing dataset_2 info to check any null value"
   ]
  },
  {
   "cell_type": "code",
   "execution_count": 310,
   "id": "04b82c81-98ca-4df2-af45-ba38cf01bc33",
   "metadata": {},
   "outputs": [
    {
     "name": "stdout",
     "output_type": "stream",
     "text": [
      "<class 'pandas.core.frame.DataFrame'>\n",
      "RangeIndex: 610 entries, 0 to 609\n",
      "Data columns (total 8 columns):\n",
      " #   Column      Non-Null Count  Dtype  \n",
      "---  ------      --------------  -----  \n",
      " 0   Unnamed: 0  610 non-null    int64  \n",
      " 1   instant     610 non-null    int64  \n",
      " 2   atemp       599 non-null    float64\n",
      " 3   hum         610 non-null    float64\n",
      " 4   windspeed   610 non-null    float64\n",
      " 5   casual      610 non-null    int64  \n",
      " 6   registered  610 non-null    int64  \n",
      " 7   cnt         610 non-null    int64  \n",
      "dtypes: float64(3), int64(5)\n",
      "memory usage: 38.3 KB\n",
      "None\n"
     ]
    }
   ],
   "source": [
    "print(datafile_2.info())"
   ]
  },
  {
   "cell_type": "code",
   "execution_count": null,
   "id": "2741c9ad-7866-4cd2-b4fd-744abc8fd8cb",
   "metadata": {},
   "outputs": [],
   "source": [
    "# printing dataset_2 describe to check outliers"
   ]
  },
  {
   "cell_type": "code",
   "execution_count": 348,
   "id": "9c6e40ec-9ce2-4d94-bfbb-9ff103711876",
   "metadata": {},
   "outputs": [
    {
     "name": "stdout",
     "output_type": "stream",
     "text": [
      "       Unnamed: 0     instant       atemp         hum   windspeed      casual  \\\n",
      "count  610.000000  610.000000  599.000000  610.000000  610.000000  610.000000   \n",
      "mean   304.500000  305.500000    0.199935    0.562475    0.204851    4.501639   \n",
      "std    176.236111  176.236111    0.078836    0.175440    0.121806    6.319945   \n",
      "min      0.000000    1.000000    0.000000    0.210000    0.000000    0.000000   \n",
      "25%    152.250000  153.250000    0.151500    0.432500    0.104500    0.000000   \n",
      "50%    304.500000  305.500000    0.197000    0.520000    0.194000    2.000000   \n",
      "75%    456.750000  457.750000    0.242400    0.690000    0.283600    6.000000   \n",
      "max    609.000000  610.000000    0.454500    1.000000    0.582100   47.000000   \n",
      "\n",
      "       registered         cnt  \n",
      "count  610.000000  610.000000  \n",
      "mean    51.068852   55.570492  \n",
      "std     47.021204   49.316802  \n",
      "min      0.000000    1.000000  \n",
      "25%     14.000000   16.000000  \n",
      "50%     43.000000   47.000000  \n",
      "75%     70.000000   79.750000  \n",
      "max    247.000000  249.000000  \n"
     ]
    }
   ],
   "source": [
    "print(datafile_2.describe())"
   ]
  },
  {
   "cell_type": "code",
   "execution_count": null,
   "id": "86ae9098-9856-4008-af5c-1b3280bb6341",
   "metadata": {},
   "outputs": [],
   "source": [
    "# ploting graph to show relation between instant and temp"
   ]
  },
  {
   "cell_type": "code",
   "execution_count": 312,
   "id": "7f571ff5-52b7-4151-8f12-51304221e9f8",
   "metadata": {},
   "outputs": [
    {
     "data": {
      "image/png": "[encoded data removed]",
      "text/plain": [
       "<Figure size 640x480 with 1 Axes>"
      ]
     },
     "metadata": {},
     "output_type": "display_data"
    }
   ],
   "source": [
    "plt.plot(datafile_2['instant'],datafile_2['atemp'])\n",
    "plt.title('bike rent graph 2')\n",
    "plt.xlabel('instant')\n",
    "plt.ylabel('temp')\n",
    "plt.show()          "
   ]
  },
  {
   "cell_type": "code",
   "execution_count": null,
   "id": "d33427d0-b7c7-4c97-bdec-72922253b2c2",
   "metadata": {},
   "outputs": [],
   "source": [
    "#ploting graph to show relatin between instant and humidity"
   ]
  },
  {
   "cell_type": "code",
   "execution_count": 314,
   "id": "f5a2cebc-39a4-44c4-b15e-a1baca628f6a",
   "metadata": {},
   "outputs": [
    {
     "data": {
      "image/png": "[encoded data removed]",
      "text/plain": [
       "<Figure size 640x480 with 1 Axes>"
      ]
     },
     "metadata": {},
     "output_type": "display_data"
    }
   ],
   "source": [
    "plt.plot(datafile_2['instant'],datafile_2['hum'])\n",
    "plt.title('bike rent graph 2')\n",
    "plt.xlabel('instant')\n",
    "plt.ylabel('hum')\n",
    "plt.show()   "
   ]
  },
  {
   "cell_type": "code",
   "execution_count": null,
   "id": "ec9d8808-db1b-4355-b13e-0b88ab762203",
   "metadata": {},
   "outputs": [],
   "source": [
    "# ploting graph to show relation between instant and cnt"
   ]
  },
  {
   "cell_type": "code",
   "execution_count": 316,
   "id": "818fb9d0-d5b3-4bc2-a833-17a8273ff685",
   "metadata": {},
   "outputs": [
    {
     "data": {
      "image/png": "[encoded data removed]",
      "text/plain": [
       "<Figure size 640x480 with 1 Axes>"
      ]
     },
     "metadata": {},
     "output_type": "display_data"
    }
   ],
   "source": [
    "plt.plot(datafile_2['instant'],datafile_2['cnt'])\n",
    "plt.title('bike rent graph 2')\n",
    "plt.xlabel('instant')\n",
    "plt.ylabel('cnt')\n",
    "plt.show()  "
   ]
  },
  {
   "cell_type": "code",
   "execution_count": null,
   "id": "20b90ae7-8b20-4c53-9772-fd1da5aef30b",
   "metadata": {},
   "outputs": [],
   "source": [
    "# merging the cleaned dataset_1 and dataset_2( it is already cleaned) the new dataset is dataset_3"
   ]
  },
  {
   "cell_type": "code",
   "execution_count": 318,
   "id": "3d54c78c-2cb4-4155-baa1-037abe3f2474",
   "metadata": {},
   "outputs": [],
   "source": [
    "datafile_3 = pd.merge(datafile_1_cleaned,datafile_2,on='instant',how='inner')"
   ]
  },
  {
   "cell_type": "code",
   "execution_count": null,
   "id": "0b484cc0-72c0-4a86-a844-56e3dd235929",
   "metadata": {},
   "outputs": [],
   "source": [
    "# printing the dataset_3 to see the data in general"
   ]
  },
  {
   "cell_type": "code",
   "execution_count": 320,
   "id": "b61b51c2-dd7c-43f0-b28f-9e54aa6c3532",
   "metadata": {},
   "outputs": [
    {
     "name": "stdout",
     "output_type": "stream",
     "text": [
      "     instant      dteday  yr  mnth  hr  holiday  weekday  weathersit  temp  \\\n",
      "0          1  01-01-2011   0     1   0    False        6           1  0.24   \n",
      "1          2  01-01-2011   0     1   1    False        6           1  0.22   \n",
      "2          3  01-01-2011   0     1   2    False        6           1  0.22   \n",
      "3          4  01-01-2011   0     1   3    False        6           1  0.24   \n",
      "4          5  01-01-2011   0     1   4    False        6           1  0.24   \n",
      "..       ...         ...  ..   ...  ..      ...      ...         ...   ...   \n",
      "605      606  28-01-2011   0     1  11    False        5           3  0.18   \n",
      "606      607  28-01-2011   0     1  12    False        5           3  0.18   \n",
      "607      608  28-01-2011   0     1  13    False        5           3  0.18   \n",
      "608      609  28-01-2011   0     1  14    False        5           3  0.22   \n",
      "609      610  28-01-2011   0     1  15    False        5           2  0.20   \n",
      "\n",
      "     Unnamed: 0   atemp   hum  windspeed  casual  registered  cnt  \n",
      "0             0  0.2879  0.81     0.0000       3          13   16  \n",
      "1             1  0.2727  0.80     0.0000       8          32   40  \n",
      "2             2  0.2727  0.80     0.0000       5          27   32  \n",
      "3             3  0.2879  0.75     0.0000       3          10   13  \n",
      "4             4  0.2879  0.75     0.0000       0           1    1  \n",
      "..          ...     ...   ...        ...     ...         ...  ...  \n",
      "605         605  0.2121  0.93     0.1045       0          30   30  \n",
      "606         606  0.2121  0.93     0.1045       1          28   29  \n",
      "607         607  0.2121  0.93     0.1045       0          31   31  \n",
      "608         608  0.2727  0.80     0.0000       2          36   38  \n",
      "609         609  0.2576  0.86     0.0000       1          40   41  \n",
      "\n",
      "[610 rows x 16 columns]\n"
     ]
    }
   ],
   "source": [
    "print(datafile_3)"
   ]
  },
  {
   "cell_type": "code",
   "execution_count": null,
   "id": "783bb5c2-43db-401b-917c-27c125da47c1",
   "metadata": {},
   "outputs": [],
   "source": [
    "# the information about dataset_3 where we can see their is no null value"
   ]
  },
  {
   "cell_type": "code",
   "execution_count": 322,
   "id": "655cbdcf-606b-404e-b7a4-6f97ff1d0f82",
   "metadata": {},
   "outputs": [
    {
     "name": "stdout",
     "output_type": "stream",
     "text": [
      "<class 'pandas.core.frame.DataFrame'>\n",
      "RangeIndex: 610 entries, 0 to 609\n",
      "Data columns (total 16 columns):\n",
      " #   Column      Non-Null Count  Dtype  \n",
      "---  ------      --------------  -----  \n",
      " 0   instant     610 non-null    int64  \n",
      " 1   dteday      610 non-null    object \n",
      " 2   yr          610 non-null    int64  \n",
      " 3   mnth        610 non-null    int64  \n",
      " 4   hr          610 non-null    int64  \n",
      " 5   holiday     610 non-null    bool   \n",
      " 6   weekday     610 non-null    int64  \n",
      " 7   weathersit  610 non-null    int64  \n",
      " 8   temp        610 non-null    float64\n",
      " 9   Unnamed: 0  610 non-null    int64  \n",
      " 10  atemp       599 non-null    float64\n",
      " 11  hum         610 non-null    float64\n",
      " 12  windspeed   610 non-null    float64\n",
      " 13  casual      610 non-null    int64  \n",
      " 14  registered  610 non-null    int64  \n",
      " 15  cnt         610 non-null    int64  \n",
      "dtypes: bool(1), float64(4), int64(10), object(1)\n",
      "memory usage: 72.2+ KB\n",
      "None\n"
     ]
    }
   ],
   "source": [
    "print(datafile_3.info())"
   ]
  },
  {
   "cell_type": "code",
   "execution_count": null,
   "id": "e858c170-e59f-4959-8c9f-9aebd1e52af6",
   "metadata": {},
   "outputs": [],
   "source": [
    "# sending the new dataset_3 in csv formate to get saved"
   ]
  },
  {
   "cell_type": "code",
   "execution_count": 342,
   "id": "80ecad0f-94b7-4808-930a-57bb777795ec",
   "metadata": {},
   "outputs": [],
   "source": [
    "intermediate_file = datafile_3.to_csv('datafile_3.csv',index = False)"
   ]
  },
  {
   "cell_type": "code",
   "execution_count": null,
   "id": "de84de3a-1bbb-49d2-9aa1-1c3c5084f862",
   "metadata": {},
   "outputs": [],
   "source": [
    "# to get the location where it is saved"
   ]
  },
  {
   "cell_type": "code",
   "execution_count": 344,
   "id": "3af2dec5-10b1-4aa9-b1c5-271314f30716",
   "metadata": {},
   "outputs": [
    {
     "name": "stdout",
     "output_type": "stream",
     "text": [
      "C:\\Users\\Sumit Saha\n"
     ]
    }
   ],
   "source": [
    "import os\n",
    "print(os.getcwd())"
   ]
  },
  {
   "cell_type": "code",
   "execution_count": null,
   "id": "d272c436-ece4-463e-9b60-ad2b9f3dde62",
   "metadata": {},
   "outputs": [],
   "source": [
    "# importing the last dataset in the form datafile_4"
   ]
  },
  {
   "cell_type": "code",
   "execution_count": 326,
   "id": "8d24e51c-8dd8-4de8-992d-2348bebf000a",
   "metadata": {},
   "outputs": [],
   "source": [
    "datafile_4 = pd.read_csv('dataset_3 - dataset_3.csv')"
   ]
  },
  {
   "cell_type": "code",
   "execution_count": null,
   "id": "4c4c95f3-76ab-4e01-bf5c-c9f3799b0e77",
   "metadata": {},
   "outputs": [],
   "source": [
    "# printing the dataset_4 to see the data and analyis"
   ]
  },
  {
   "cell_type": "code",
   "execution_count": 328,
   "id": "3b43ff02-b42f-4999-be3e-c57cd9ded2c5",
   "metadata": {},
   "outputs": [
    {
     "name": "stdout",
     "output_type": "stream",
     "text": [
      "     instant      dteday  season  yr  mnth  hr  holiday  weekday  weathersit  \\\n",
      "0        620  29-01-2011       1   0     1   1    False        6           1   \n",
      "1        621  29-01-2011       1   0     1   2    False        6           1   \n",
      "2        622  29-01-2011       1   0     1   3    False        6           1   \n",
      "3        623  29-01-2011       1   0     1   4    False        6           1   \n",
      "4        624  29-01-2011       1   0     1   6    False        6           1   \n",
      "..       ...         ...     ...  ..   ...  ..      ...      ...         ...   \n",
      "385      615  28-01-2011       1   0     1  20    False        5           2   \n",
      "386      616  28-01-2011       1   0     1  21    False        5           2   \n",
      "387      617  28-01-2011       1   0     1  22    False        5           1   \n",
      "388      618  28-01-2011       1   0     1  23    False        5           1   \n",
      "389      619  29-01-2011       1   0     1   0    False        6           1   \n",
      "\n",
      "     temp   atemp   hum  windspeed  casual  registered  cnt  \n",
      "0    0.22  0.2273  0.64     0.1940       0          20   20  \n",
      "1    0.22  0.2273  0.64     0.1642       0          15   15  \n",
      "2    0.20  0.2121  0.64     0.1343       3           5    8  \n",
      "3    0.16  0.1818  0.69     0.1045       1           2    3  \n",
      "4    0.16  0.1818  0.64     0.1343       0           2    2  \n",
      "..    ...     ...   ...        ...     ...         ...  ...  \n",
      "385  0.24  0.2273  0.70     0.1940       1          61   62  \n",
      "386  0.22  0.2273  0.75     0.1343       1          57   58  \n",
      "387  0.24  0.2121  0.65     0.3582       0          26   26  \n",
      "388  0.24  0.2273  0.60     0.2239       1          22   23  \n",
      "389  0.22  0.1970  0.64     0.3582       2          26   28  \n",
      "\n",
      "[390 rows x 16 columns]\n"
     ]
    }
   ],
   "source": [
    "print(datafile_4)"
   ]
  },
  {
   "cell_type": "code",
   "execution_count": null,
   "id": "0926427d-9972-4bfc-b432-3feff8e4ed24",
   "metadata": {},
   "outputs": [],
   "source": [
    "# to get the information of datafile_4"
   ]
  },
  {
   "cell_type": "code",
   "execution_count": 330,
   "id": "c198914e-23d5-420c-99f3-710d23a5035a",
   "metadata": {},
   "outputs": [
    {
     "name": "stdout",
     "output_type": "stream",
     "text": [
      "<class 'pandas.core.frame.DataFrame'>\n",
      "RangeIndex: 390 entries, 0 to 389\n",
      "Data columns (total 16 columns):\n",
      " #   Column      Non-Null Count  Dtype  \n",
      "---  ------      --------------  -----  \n",
      " 0   instant     390 non-null    int64  \n",
      " 1   dteday      390 non-null    object \n",
      " 2   season      390 non-null    int64  \n",
      " 3   yr          390 non-null    int64  \n",
      " 4   mnth        390 non-null    int64  \n",
      " 5   hr          390 non-null    int64  \n",
      " 6   holiday     390 non-null    bool   \n",
      " 7   weekday     390 non-null    int64  \n",
      " 8   weathersit  390 non-null    int64  \n",
      " 9   temp        390 non-null    float64\n",
      " 10  atemp       390 non-null    float64\n",
      " 11  hum         390 non-null    float64\n",
      " 12  windspeed   390 non-null    float64\n",
      " 13  casual      390 non-null    int64  \n",
      " 14  registered  390 non-null    int64  \n",
      " 15  cnt         390 non-null    int64  \n",
      "dtypes: bool(1), float64(4), int64(10), object(1)\n",
      "memory usage: 46.2+ KB\n",
      "None\n"
     ]
    }
   ],
   "source": [
    "print(datafile_4.info())"
   ]
  },
  {
   "cell_type": "code",
   "execution_count": null,
   "id": "8bcfd74b-1b60-4087-ba9e-fc4d599dc237",
   "metadata": {},
   "outputs": [],
   "source": [
    "# to check the outliers"
   ]
  },
  {
   "cell_type": "code",
   "execution_count": 350,
   "id": "5d6a0ee7-b540-4128-ba91-82089cc88c46",
   "metadata": {},
   "outputs": [
    {
     "name": "stdout",
     "output_type": "stream",
     "text": [
      "           instant  season     yr        mnth          hr     weekday  \\\n",
      "count   390.000000   390.0  390.0  390.000000  390.000000  390.000000   \n",
      "mean    805.500000     1.0    0.0    1.800000   11.687179    2.989744   \n",
      "std     112.727548     0.0    0.0    0.400514    6.980295    2.149884   \n",
      "min     611.000000     1.0    0.0    1.000000    0.000000    0.000000   \n",
      "25%     708.250000     1.0    0.0    2.000000    6.000000    1.000000   \n",
      "50%     805.500000     1.0    0.0    2.000000   12.000000    3.000000   \n",
      "75%     902.750000     1.0    0.0    2.000000   18.000000    5.000000   \n",
      "max    1000.000000     1.0    0.0    2.000000   23.000000    6.000000   \n",
      "\n",
      "       weathersit        temp       atemp         hum   windspeed      casual  \\\n",
      "count  390.000000  390.000000  390.000000  390.000000  390.000000  390.000000   \n",
      "mean     1.484615    0.220000    0.230424    0.613769    0.179416    5.576923   \n",
      "std      0.663805    0.073095    0.069455    0.202361    0.138551    9.317478   \n",
      "min      1.000000    0.060000    0.075800    0.210000    0.000000    0.000000   \n",
      "25%      1.000000    0.160000    0.181800    0.450000    0.089600    1.000000   \n",
      "50%      1.000000    0.220000    0.227300    0.600000    0.164200    3.000000   \n",
      "75%      2.000000    0.260000    0.272700    0.750000    0.283600    6.000000   \n",
      "max      3.000000    0.420000    0.424200    1.000000    0.582100   62.000000   \n",
      "\n",
      "       registered         cnt  \n",
      "count  390.000000  390.000000  \n",
      "mean    57.002564   62.579487  \n",
      "std     49.070198   53.274838  \n",
      "min      0.000000    1.000000  \n",
      "25%     17.000000   18.500000  \n",
      "50%     48.000000   52.000000  \n",
      "75%     83.750000   88.750000  \n",
      "max    236.000000  243.000000  \n"
     ]
    }
   ],
   "source": [
    "print(datafile_4.describe())"
   ]
  },
  {
   "cell_type": "code",
   "execution_count": null,
   "id": "6bcf4f79-d554-4cdb-9338-e9e69a347092",
   "metadata": {},
   "outputs": [],
   "source": [
    "# this is the final master data which combine all the three data"
   ]
  },
  {
   "cell_type": "code",
   "execution_count": 332,
   "id": "3cb59e72-4eab-4882-9cf1-067d9007c585",
   "metadata": {},
   "outputs": [
    {
     "data": {
      "text/html": [
       "<div>\n",
       "<style scoped>\n",
       "    .dataframe tbody tr th:only-of-type {\n",
       "        vertical-align: middle;\n",
       "    }\n",
       "\n",
       "    .dataframe tbody tr th {\n",
       "        vertical-align: top;\n",
       "    }\n",
       "\n",
       "    .dataframe thead th {\n",
       "        text-align: right;\n",
       "    }\n",
       "</style>\n",
       "<table border=\"1\" class=\"dataframe\">\n",
       "  <thead>\n",
       "    <tr style=\"text-align: right;\">\n",
       "      <th></th>\n",
       "      <th>instant</th>\n",
       "      <th>dteday</th>\n",
       "      <th>yr</th>\n",
       "      <th>mnth</th>\n",
       "      <th>hr</th>\n",
       "      <th>holiday</th>\n",
       "      <th>weekday</th>\n",
       "      <th>weathersit</th>\n",
       "      <th>temp</th>\n",
       "      <th>Unnamed: 0</th>\n",
       "      <th>atemp</th>\n",
       "      <th>hum</th>\n",
       "      <th>windspeed</th>\n",
       "      <th>casual</th>\n",
       "      <th>registered</th>\n",
       "      <th>cnt</th>\n",
       "      <th>season</th>\n",
       "    </tr>\n",
       "  </thead>\n",
       "  <tbody>\n",
       "    <tr>\n",
       "      <th>0</th>\n",
       "      <td>1</td>\n",
       "      <td>01-01-2011</td>\n",
       "      <td>0</td>\n",
       "      <td>1</td>\n",
       "      <td>0</td>\n",
       "      <td>False</td>\n",
       "      <td>6</td>\n",
       "      <td>1</td>\n",
       "      <td>0.24</td>\n",
       "      <td>0.0</td>\n",
       "      <td>0.2879</td>\n",
       "      <td>0.81</td>\n",
       "      <td>0.0000</td>\n",
       "      <td>3</td>\n",
       "      <td>13</td>\n",
       "      <td>16</td>\n",
       "      <td>NaN</td>\n",
       "    </tr>\n",
       "    <tr>\n",
       "      <th>1</th>\n",
       "      <td>2</td>\n",
       "      <td>01-01-2011</td>\n",
       "      <td>0</td>\n",
       "      <td>1</td>\n",
       "      <td>1</td>\n",
       "      <td>False</td>\n",
       "      <td>6</td>\n",
       "      <td>1</td>\n",
       "      <td>0.22</td>\n",
       "      <td>1.0</td>\n",
       "      <td>0.2727</td>\n",
       "      <td>0.80</td>\n",
       "      <td>0.0000</td>\n",
       "      <td>8</td>\n",
       "      <td>32</td>\n",
       "      <td>40</td>\n",
       "      <td>NaN</td>\n",
       "    </tr>\n",
       "    <tr>\n",
       "      <th>2</th>\n",
       "      <td>3</td>\n",
       "      <td>01-01-2011</td>\n",
       "      <td>0</td>\n",
       "      <td>1</td>\n",
       "      <td>2</td>\n",
       "      <td>False</td>\n",
       "      <td>6</td>\n",
       "      <td>1</td>\n",
       "      <td>0.22</td>\n",
       "      <td>2.0</td>\n",
       "      <td>0.2727</td>\n",
       "      <td>0.80</td>\n",
       "      <td>0.0000</td>\n",
       "      <td>5</td>\n",
       "      <td>27</td>\n",
       "      <td>32</td>\n",
       "      <td>NaN</td>\n",
       "    </tr>\n",
       "    <tr>\n",
       "      <th>3</th>\n",
       "      <td>4</td>\n",
       "      <td>01-01-2011</td>\n",
       "      <td>0</td>\n",
       "      <td>1</td>\n",
       "      <td>3</td>\n",
       "      <td>False</td>\n",
       "      <td>6</td>\n",
       "      <td>1</td>\n",
       "      <td>0.24</td>\n",
       "      <td>3.0</td>\n",
       "      <td>0.2879</td>\n",
       "      <td>0.75</td>\n",
       "      <td>0.0000</td>\n",
       "      <td>3</td>\n",
       "      <td>10</td>\n",
       "      <td>13</td>\n",
       "      <td>NaN</td>\n",
       "    </tr>\n",
       "    <tr>\n",
       "      <th>4</th>\n",
       "      <td>5</td>\n",
       "      <td>01-01-2011</td>\n",
       "      <td>0</td>\n",
       "      <td>1</td>\n",
       "      <td>4</td>\n",
       "      <td>False</td>\n",
       "      <td>6</td>\n",
       "      <td>1</td>\n",
       "      <td>0.24</td>\n",
       "      <td>4.0</td>\n",
       "      <td>0.2879</td>\n",
       "      <td>0.75</td>\n",
       "      <td>0.0000</td>\n",
       "      <td>0</td>\n",
       "      <td>1</td>\n",
       "      <td>1</td>\n",
       "      <td>NaN</td>\n",
       "    </tr>\n",
       "    <tr>\n",
       "      <th>...</th>\n",
       "      <td>...</td>\n",
       "      <td>...</td>\n",
       "      <td>...</td>\n",
       "      <td>...</td>\n",
       "      <td>...</td>\n",
       "      <td>...</td>\n",
       "      <td>...</td>\n",
       "      <td>...</td>\n",
       "      <td>...</td>\n",
       "      <td>...</td>\n",
       "      <td>...</td>\n",
       "      <td>...</td>\n",
       "      <td>...</td>\n",
       "      <td>...</td>\n",
       "      <td>...</td>\n",
       "      <td>...</td>\n",
       "      <td>...</td>\n",
       "    </tr>\n",
       "    <tr>\n",
       "      <th>995</th>\n",
       "      <td>615</td>\n",
       "      <td>28-01-2011</td>\n",
       "      <td>0</td>\n",
       "      <td>1</td>\n",
       "      <td>20</td>\n",
       "      <td>False</td>\n",
       "      <td>5</td>\n",
       "      <td>2</td>\n",
       "      <td>0.24</td>\n",
       "      <td>NaN</td>\n",
       "      <td>0.2273</td>\n",
       "      <td>0.70</td>\n",
       "      <td>0.1940</td>\n",
       "      <td>1</td>\n",
       "      <td>61</td>\n",
       "      <td>62</td>\n",
       "      <td>1.0</td>\n",
       "    </tr>\n",
       "    <tr>\n",
       "      <th>996</th>\n",
       "      <td>616</td>\n",
       "      <td>28-01-2011</td>\n",
       "      <td>0</td>\n",
       "      <td>1</td>\n",
       "      <td>21</td>\n",
       "      <td>False</td>\n",
       "      <td>5</td>\n",
       "      <td>2</td>\n",
       "      <td>0.22</td>\n",
       "      <td>NaN</td>\n",
       "      <td>0.2273</td>\n",
       "      <td>0.75</td>\n",
       "      <td>0.1343</td>\n",
       "      <td>1</td>\n",
       "      <td>57</td>\n",
       "      <td>58</td>\n",
       "      <td>1.0</td>\n",
       "    </tr>\n",
       "    <tr>\n",
       "      <th>997</th>\n",
       "      <td>617</td>\n",
       "      <td>28-01-2011</td>\n",
       "      <td>0</td>\n",
       "      <td>1</td>\n",
       "      <td>22</td>\n",
       "      <td>False</td>\n",
       "      <td>5</td>\n",
       "      <td>1</td>\n",
       "      <td>0.24</td>\n",
       "      <td>NaN</td>\n",
       "      <td>0.2121</td>\n",
       "      <td>0.65</td>\n",
       "      <td>0.3582</td>\n",
       "      <td>0</td>\n",
       "      <td>26</td>\n",
       "      <td>26</td>\n",
       "      <td>1.0</td>\n",
       "    </tr>\n",
       "    <tr>\n",
       "      <th>998</th>\n",
       "      <td>618</td>\n",
       "      <td>28-01-2011</td>\n",
       "      <td>0</td>\n",
       "      <td>1</td>\n",
       "      <td>23</td>\n",
       "      <td>False</td>\n",
       "      <td>5</td>\n",
       "      <td>1</td>\n",
       "      <td>0.24</td>\n",
       "      <td>NaN</td>\n",
       "      <td>0.2273</td>\n",
       "      <td>0.60</td>\n",
       "      <td>0.2239</td>\n",
       "      <td>1</td>\n",
       "      <td>22</td>\n",
       "      <td>23</td>\n",
       "      <td>1.0</td>\n",
       "    </tr>\n",
       "    <tr>\n",
       "      <th>999</th>\n",
       "      <td>619</td>\n",
       "      <td>29-01-2011</td>\n",
       "      <td>0</td>\n",
       "      <td>1</td>\n",
       "      <td>0</td>\n",
       "      <td>False</td>\n",
       "      <td>6</td>\n",
       "      <td>1</td>\n",
       "      <td>0.22</td>\n",
       "      <td>NaN</td>\n",
       "      <td>0.1970</td>\n",
       "      <td>0.64</td>\n",
       "      <td>0.3582</td>\n",
       "      <td>2</td>\n",
       "      <td>26</td>\n",
       "      <td>28</td>\n",
       "      <td>1.0</td>\n",
       "    </tr>\n",
       "  </tbody>\n",
       "</table>\n",
       "<p>1000 rows × 17 columns</p>\n",
       "</div>"
      ],
      "text/plain": [
       "     instant      dteday  yr  mnth  hr  holiday  weekday  weathersit  temp  \\\n",
       "0          1  01-01-2011   0     1   0    False        6           1  0.24   \n",
       "1          2  01-01-2011   0     1   1    False        6           1  0.22   \n",
       "2          3  01-01-2011   0     1   2    False        6           1  0.22   \n",
       "3          4  01-01-2011   0     1   3    False        6           1  0.24   \n",
       "4          5  01-01-2011   0     1   4    False        6           1  0.24   \n",
       "..       ...         ...  ..   ...  ..      ...      ...         ...   ...   \n",
       "995      615  28-01-2011   0     1  20    False        5           2  0.24   \n",
       "996      616  28-01-2011   0     1  21    False        5           2  0.22   \n",
       "997      617  28-01-2011   0     1  22    False        5           1  0.24   \n",
       "998      618  28-01-2011   0     1  23    False        5           1  0.24   \n",
       "999      619  29-01-2011   0     1   0    False        6           1  0.22   \n",
       "\n",
       "     Unnamed: 0   atemp   hum  windspeed  casual  registered  cnt  season  \n",
       "0           0.0  0.2879  0.81     0.0000       3          13   16     NaN  \n",
       "1           1.0  0.2727  0.80     0.0000       8          32   40     NaN  \n",
       "2           2.0  0.2727  0.80     0.0000       5          27   32     NaN  \n",
       "3           3.0  0.2879  0.75     0.0000       3          10   13     NaN  \n",
       "4           4.0  0.2879  0.75     0.0000       0           1    1     NaN  \n",
       "..          ...     ...   ...        ...     ...         ...  ...     ...  \n",
       "995         NaN  0.2273  0.70     0.1940       1          61   62     1.0  \n",
       "996         NaN  0.2273  0.75     0.1343       1          57   58     1.0  \n",
       "997         NaN  0.2121  0.65     0.3582       0          26   26     1.0  \n",
       "998         NaN  0.2273  0.60     0.2239       1          22   23     1.0  \n",
       "999         NaN  0.1970  0.64     0.3582       2          26   28     1.0  \n",
       "\n",
       "[1000 rows x 17 columns]"
      ]
     },
     "execution_count": 332,
     "metadata": {},
     "output_type": "execute_result"
    }
   ],
   "source": [
    "master_data = pd.concat([datafile_3,datafile_4],ignore_index = True)\n",
    "master_data"
   ]
  },
  {
   "cell_type": "code",
   "execution_count": null,
   "id": "31d4dbf7-3514-4bca-a236-0f94637e7c35",
   "metadata": {},
   "outputs": [],
   "source": [
    "# to see the info of the master data and we can see no null value"
   ]
  },
  {
   "cell_type": "code",
   "execution_count": 354,
   "id": "98d46fc0-e205-4168-8143-ed83ecf47faa",
   "metadata": {},
   "outputs": [
    {
     "name": "stdout",
     "output_type": "stream",
     "text": [
      "<class 'pandas.core.frame.DataFrame'>\n",
      "RangeIndex: 1000 entries, 0 to 999\n",
      "Data columns (total 17 columns):\n",
      " #   Column      Non-Null Count  Dtype  \n",
      "---  ------      --------------  -----  \n",
      " 0   instant     1000 non-null   int64  \n",
      " 1   dteday      1000 non-null   object \n",
      " 2   yr          1000 non-null   int64  \n",
      " 3   mnth        1000 non-null   int64  \n",
      " 4   hr          1000 non-null   int64  \n",
      " 5   holiday     1000 non-null   bool   \n",
      " 6   weekday     1000 non-null   int64  \n",
      " 7   weathersit  1000 non-null   int64  \n",
      " 8   temp        1000 non-null   float64\n",
      " 9   Unnamed: 0  610 non-null    float64\n",
      " 10  atemp       989 non-null    float64\n",
      " 11  hum         1000 non-null   float64\n",
      " 12  windspeed   1000 non-null   float64\n",
      " 13  casual      1000 non-null   int64  \n",
      " 14  registered  1000 non-null   int64  \n",
      " 15  cnt         1000 non-null   int64  \n",
      " 16  season      390 non-null    float64\n",
      "dtypes: bool(1), float64(6), int64(9), object(1)\n",
      "memory usage: 126.1+ KB\n",
      "None\n"
     ]
    }
   ],
   "source": [
    "print(master_data.info())"
   ]
  },
  {
   "cell_type": "code",
   "execution_count": null,
   "id": "f318111b-12ad-4781-aa1d-26f986dfd9ea",
   "metadata": {},
   "outputs": [],
   "source": [
    "# we can check here the outliers and mean median and mode and etc"
   ]
  },
  {
   "cell_type": "code",
   "execution_count": 352,
   "id": "92cae3c8-223a-4d20-92db-1f70f29a08e4",
   "metadata": {},
   "outputs": [
    {
     "name": "stdout",
     "output_type": "stream",
     "text": [
      "           instant      yr         mnth           hr      weekday  \\\n",
      "count  1000.000000  1000.0  1000.000000  1000.000000  1000.000000   \n",
      "mean    500.500000     0.0     1.312000    11.753000     2.982000   \n",
      "std     288.819436     0.0     0.463542     6.899101     2.091423   \n",
      "min       1.000000     0.0     1.000000     0.000000     0.000000   \n",
      "25%     250.750000     0.0     1.000000     6.000000     1.000000   \n",
      "50%     500.500000     0.0     1.000000    12.000000     3.000000   \n",
      "75%     750.250000     0.0     2.000000    18.000000     5.000000   \n",
      "max    1000.000000     0.0     2.000000    23.000000     6.000000   \n",
      "\n",
      "        weathersit         temp  Unnamed: 0       atemp          hum  \\\n",
      "count  1000.000000  1000.000000  610.000000  989.000000  1000.000000   \n",
      "mean      1.480000     0.205900  304.500000    0.211958     0.582480   \n",
      "std       0.651171     0.078977  176.236111    0.076703     0.187977   \n",
      "min       1.000000     0.020000    0.000000    0.000000     0.210000   \n",
      "25%       1.000000     0.160000  152.250000    0.166700     0.440000   \n",
      "50%       1.000000     0.200000  304.500000    0.212100     0.550000   \n",
      "75%       2.000000     0.240000  456.750000    0.257600     0.700000   \n",
      "max       4.000000     0.460000  609.000000    0.454500     1.000000   \n",
      "\n",
      "         windspeed       casual   registered          cnt  season  \n",
      "count  1000.000000  1000.000000  1000.000000  1000.000000   390.0  \n",
      "mean      0.194931     4.921000    53.383000    58.304000     1.0  \n",
      "std       0.129126     7.643899    47.893968    50.985558     0.0  \n",
      "min       0.000000     0.000000     0.000000     1.000000     1.0  \n",
      "25%       0.104500     0.000000    15.000000    16.000000     1.0  \n",
      "50%       0.164200     3.000000    46.000000    49.000000     1.0  \n",
      "75%       0.283600     6.000000    74.000000    83.000000     1.0  \n",
      "max       0.582100    62.000000   247.000000   249.000000     1.0  \n"
     ]
    }
   ],
   "source": [
    "print(master_data.describe())"
   ]
  },
  {
   "cell_type": "code",
   "execution_count": null,
   "id": "71e771af-5b07-42e5-8fbe-320dfa3a2ac6",
   "metadata": {},
   "outputs": [],
   "source": [
    "# ploting the graph showing the relatins between cnt and registered"
   ]
  },
  {
   "cell_type": "code",
   "execution_count": 258,
   "id": "26476b19-0c1b-4bcd-8cb5-bdd311c82898",
   "metadata": {},
   "outputs": [
    {
     "data": {
      "image/png": "[encoded data removed]",
      "text/plain": [
       "<Figure size 640x480 with 1 Axes>"
      ]
     },
     "metadata": {},
     "output_type": "display_data"
    }
   ],
   "source": [
    "plt.bar(master_data['cnt'],master_data['registered'])\n",
    "plt.title('final rental bike graph')\n",
    "plt.xlabel('cnt')\n",
    "plt.ylabel('registered')\n",
    "plt.show()"
   ]
  },
  {
   "cell_type": "code",
   "execution_count": null,
   "id": "7a349a1f-f2e6-4bf4-ba23-36126f6bc5c4",
   "metadata": {},
   "outputs": [],
   "source": [
    "# exporting the the file"
   ]
  },
  {
   "cell_type": "code",
   "execution_count": 274,
   "id": "d088b42a-3535-449d-b8f5-0a93dc05c03c",
   "metadata": {},
   "outputs": [],
   "source": [
    "master_file = master_data.to_csv(\"master_data\",index = False)\n",
    "master_file"
   ]
  },
  {
   "cell_type": "code",
   "execution_count": 334,
   "id": "264c50cc-a889-472e-b288-d72a48f79e93",
   "metadata": {},
   "outputs": [
    {
     "name": "stdout",
     "output_type": "stream",
     "text": [
      "C:\\Users\\Sumit Saha\n"
     ]
    }
   ],
   "source": [
    "import os\n",
    "print(os.getcwd())"
   ]
  },
  {
   "cell_type": "code",
   "execution_count": null,
   "id": "324b2023-0dae-4128-b377-98a28793adb7",
   "metadata": {},
   "outputs": [],
   "source": []
  }
 ],
 "metadata": {
  "kernelspec": {
   "display_name": "Python [conda env:base] *",
   "language": "python",
   "name": "conda-base-py"
  },
  "language_info": {
   "codemirror_mode": {
    "name": "ipython",
    "version": 3
   },
   "file_extension": ".py",
   "mimetype": "text/x-python",
   "name": "python",
   "nbconvert_exporter": "python",
   "pygments_lexer": "ipython3",
   "version": "3.12.4"
  }
 },
 "nbformat": 4,
 "nbformat_minor": 5
}
